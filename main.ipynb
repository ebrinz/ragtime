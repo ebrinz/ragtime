{
 "cells": [
  {
   "cell_type": "code",
   "execution_count": 1,
   "metadata": {},
   "outputs": [
    {
     "name": "stdout",
     "output_type": "stream",
     "text": [
      "Embedding model loaded\n"
     ]
    },
    {
     "data": {
      "application/vnd.jupyter.widget-view+json": {
       "model_id": "2a14786bb4944a8db0b37212129cba57",
       "version_major": 2,
       "version_minor": 0
      },
      "text/plain": [
       "Loading checkpoint shards:   0%|          | 0/3 [00:00<?, ?it/s]"
      ]
     },
     "metadata": {},
     "output_type": "display_data"
    },
    {
     "name": "stdout",
     "output_type": "stream",
     "text": [
      "Mistral loaded\n",
      "Connected to Milvus at 127.0.0.1:19530 with alias 'default'\n",
      "Collection 'wiki_movie_plots' loaded\n",
      "Milvus loaded\n"
     ]
    }
   ],
   "source": [
    "from models import GenerationModel, EmbeddingsModel, MilvusClient\n",
    "import os\n",
    "\n",
    "# # Initialize the models\n",
    "embedding_model = EmbeddingsModel(\"sentence-transformers/bert-base-nli-mean-tokens\")\n",
    "embedding_model.load_model()\n",
    "print('Embedding model loaded')\n",
    "\n",
    "home_dir = os.getenv(\"HOME\")\n",
    "generation_model_name = f'{home_dir}/ext-gits/Mistral-7B-Instruct-v0.3'\n",
    "generation_model = GenerationModel(generation_model_name)\n",
    "generation_model.load_model()\n",
    "print('Mistral loaded')\n",
    "\n",
    "# Initialize the Milvus client and connect to the database\n",
    "milvus_client = MilvusClient(\"wiki_movie_plots\")\n",
    "print('Milvus loaded')\n"
   ]
  },
  {
   "cell_type": "code",
   "execution_count": 2,
   "metadata": {},
   "outputs": [
    {
     "name": "stdout",
     "output_type": "stream",
     "text": [
      "Ingesting data\n"
     ]
    },
    {
     "data": {
      "application/vnd.jupyter.widget-view+json": {
       "model_id": "435b3e9cdfe3419fbda358dcfdd70bb2",
       "version_major": 2,
       "version_minor": 0
      },
      "text/plain": [
       "Inserting Batches:   0%|          | 0/273 [00:00<?, ?batch/s]"
      ]
     },
     "metadata": {},
     "output_type": "display_data"
    },
    {
     "name": "stdout",
     "output_type": "stream",
     "text": [
      "Number of records in the collection: 34886\n",
      "Data ingested\n"
     ]
    }
   ],
   "source": [
    "\n",
    "print('Ingesting data')\n",
    "# Insert embeddings to Milvus if needed (takes time)\n",
    "csv_file_path = \"data/wiki_movie_plots_deduped.csv\"\n",
    "milvus_client.get_collection()\n",
    "milvus_client.ingest_data(csv_file_path, embedding_model, batch_size=128)\n",
    "print('Data ingested')"
   ]
  },
  {
   "cell_type": "code",
   "execution_count": 3,
   "metadata": {},
   "outputs": [
    {
     "name": "stdout",
     "output_type": "stream",
     "text": [
      "Number of records in the collection: 34886\n"
     ]
    }
   ],
   "source": [
    "# milvus_client.drop_collection()\n",
    "\n",
    "# milvus_client.get_collection()\n",
    "\n",
    "milvus_client.count_records()"
   ]
  },
  {
   "cell_type": "code",
   "execution_count": null,
   "metadata": {},
   "outputs": [
    {
     "name": "stderr",
     "output_type": "stream",
     "text": [
      "Asking to truncate to max_length but no maximum length is provided and the model has no predefined maximum length. Default to no truncation.\n"
     ]
    },
    {
     "name": "stdout",
     "output_type": "stream",
     "text": [
      "Embedding type: <class 'list'>, First element type: <class 'float'>\n",
      "X from Outer Space !The X from Outer Space\n",
      "1967\n",
      "the spaceship aab gamma is dispatched from japan to travel to mars to investigate reports of ufos in the area. when the gamma nears the red planet, it comes across a mysterious alien vessel that sprays the ship with spores. samples are taken back to earth where one of them begins to develop. the cosmic spore grows into a giant, lizard-like creature dubbed \"guilala.\" the monster begins a reign of destruction through tokyo. it spits fireballs, feeds on nuclear fuel, turns into a flying, burning sphere and destroys any airplanes and tanks in its path. guilala is finally defeated by jets laden with bombs, which coat it in a substance called \"guilalalium.\" it causes guilala to shrink down to its original spore form. the government promptly launches the spore back into space, where it will circle the sun in an endless orbit.\n",
      "Invasion\n",
      "1966\n",
      "an alien spacecraft crash-lands on earth, near a secluded hospital not far from london. the aliens, who are humanoid and resemble east asians, are taken to a rural hospital where they cause a forcefield to be raised around the building.\n",
      "Daughter of Shanghai\n",
      "1937\n",
      "lan ying lin and government agent kim lee battle alien smugglers.\n",
      "Invasion of the Neptune Men\n",
      "1961\n",
      "astronomer shinichi tachibana has a secret identity as superhero \"iron sharp\" (changed to \"space chief\" in the english dub) and has many children as friends. when they are attacked by a group of metallic aliens (\"neptune men\" in english), iron sharp drives the aliens away. the resourceful tachibana helps develop an electric barrier to block the aliens from coming to the earth. after several losses by the aliens, they announce that they will invade the earth, throwing the world into a state of panic. the aliens destroy entire cities with their mothership and smaller fighters. after iron sharp destroys multiple enemy ships, japan fires a nuclear missile at the mothership, destroying it.\n",
      "Independence Day: Resurgence\n",
      "2016\n",
      "twenty years after the devastating alien invasion, the united nations has set up the earth space defense (esd), a global defense and research program that reverse-engineers alien technology and serves as earth's early warning system against extraterrestrial threats. civilization has been restored and relative peace among nations exists following the human race's victory over the aliens' attacks. as the twentieth anniversary of the invasion approaches, esd director david levinson meets with warlord dikembe umbutu and dr. catherine marceaux in the african state republique nationale d'umbutu. they travel to an intact alien city destroyer and discover that alien survivors sent a distress call to their home world before their defeat. it is revealed that former u.s. president thomas whitmore, dr. brackish okun, and umbutu are telepathically linked to the aliens, following personal encounters, and have visions of an unidentified spherical object. an unidentified spherical ship emerges from a wormhole near earth's moon, and despite objections from levinson, is destroyed on the orders of the united nations security council. defying orders, american pilots jake morrison and charlie miller then pick up levinson, marceaux, umbutu, and u.s. federal controller floyd rosenberg on a space tug. they head for the wreckage in the van de graaff crater, where they recover a large container. an alien mothership suddenly appears, responding to the distress call, and proceeds to destroy much of the earth's planetary defenses before landing over the north atlantic ocean, where it starts to drill down toward the earth's molten core. narrowly escaping death, those on board the space tug are able to avoid capture and return to area 51. whitmore, levinson, and u.s. general joshua adams' groups interrogate one of the aliens held in captivity at area 51's prison facility from the war. they learn that the aliens exist in eusociality and that one of their colossal queens is commanding the invasion. levinson hypothesizes that, if they kill the supervising queen, her forces will cease drilling and retreat. an esd aerial fleet, led by captain dylan hiller, stages a counterattack, but they are caught in a trap within the mothership, leaving only a few survivors, including dylan, jake, charlie, and fellow esd lieutenant and chinese pilot rain lao. in area 51, okun opens the rescued container and releases a giant white sphere of virtual intelligence. she reveals that her mission is to evacuate survivors to a planet of refuge from worlds targeted by the aliens, whom she calls \"harvesters\", and unite them in an attack on the harvesters' planet. in the mothership, all surviving esd pilots manage to escape by hijacking enemy craft; dylan, jake, charlie, and rain navigate two harvester fighters to pursue the queen's personal ship, which is heading to area 51 to extract information from the sphere about the refugee planet. knowing the harvester queen has become aware of the sphere's location, the esd hide her in an isolation chamber and use a decoy in jake's space tug to lure the harvester queen's ship into a trap. whitmore volunteers to pilot the transport ship on a suicide mission, leading the queen's ship into a trap before detonating a bomb, thus sacrificing himself but destroying the enemy ship. however, the harvester queen survives by using an energy shield and a fight breaks out. initially, the esd soldiers' weapons cannot penetrate the queen's shield, but after the harvester queen lowers her shield to fire her own weapon, a good shot by whitmore's daughter patricia disables her shield. this allows dylan's party, which arrives just in time, to ultimately kill her before she can take the sphere. with the queen dead, all the remaining alien fighters are rendered inactive, while the mothership stops drilling and retreats to space. okun reveals that the sphere has asked humanity to lead her resistance and has offered them new technology in preparation for a counterattack on the harvester's home world.\n"
     ]
    }
   ],
   "source": [
    "\n",
    "plot_query = \"Aliens seize the capitol.\"\n",
    "\n",
    "embedding = embedding_model.get_batch_embeddings([plot_query])\n",
    "search_results = milvus_client.search(embedding)\n",
    "\n",
    "context_texts = ''\n",
    "for result in search_results:\n",
    "    for hit in result:\n",
    "        # print returns for context\n",
    "        print(hit.entity.get(\"title\"))\n",
    "        print(hit.entity.get(\"release_year\"))\n",
    "        print(hit.entity.get(\"plot_text\"))\n",
    "        plot_text = hit.entity.get(\"plot_text\")\n",
    "        context_texts += plot_text\n",
    "\n",
    "prompt = \"Summarize this: \" + context_texts\n",
    "response = generation_model.generate_response(\n",
    "     prompt,\n",
    "     max_new_tokens=250,\n",
    "     num_return_sequences=1,\n",
    "     do_sample=True,\n",
    "     top_p=0.95,\n",
    "     top_k=50, \n",
    "     )\n",
    "\n",
    "print(response)"
   ]
  }
 ],
 "metadata": {
  "kernelspec": {
   "display_name": "ragtime-5o5M5Lb8",
   "language": "python",
   "name": "python3"
  },
  "language_info": {
   "codemirror_mode": {
    "name": "ipython",
    "version": 3
   },
   "file_extension": ".py",
   "mimetype": "text/x-python",
   "name": "python",
   "nbconvert_exporter": "python",
   "pygments_lexer": "ipython3",
   "version": "3.11.10"
  }
 },
 "nbformat": 4,
 "nbformat_minor": 2
}
