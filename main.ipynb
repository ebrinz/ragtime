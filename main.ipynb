{
 "cells": [
  {
   "cell_type": "code",
   "execution_count": null,
   "metadata": {},
   "outputs": [
    {
     "name": "stdout",
     "output_type": "stream",
     "text": [
      "Already connected to Milvus with alias 'default'\n",
      "Collection 'wiki_movie_plots' loaded\n",
      "Milvus loaded\n"
     ]
    }
   ],
   "source": [
    "from models import GenerationModel, EmbeddingsModel, MilvusClient\n",
    "import os\n",
    "\n",
    "# # Initialize the models\n",
    "embedding_model = EmbeddingsModel(\"sentence-transformers/bert-base-nli-mean-tokens\")\n",
    "embedding_model.load_model()\n",
    "print('Embedding model loaded')\n",
    "\n",
    "home_dir = os.getenv(\"HOME\")\n",
    "generation_model_name = f'{home_dir}/ext-gits/Mistral-7B-Instruct-v0.3'\n",
    "generation_model = GenerationModel(generation_model_name)\n",
    "generation_model.load_model()\n",
    "print('Mistral loaded')\n",
    "\n",
    "# Initialize the Milvus client and connect to the database\n",
    "milvus_client = MilvusClient(\"wiki_movie_plots\")\n",
    "print('Milvus loaded')\n"
   ]
  },
  {
   "cell_type": "code",
   "execution_count": 8,
   "metadata": {},
   "outputs": [
    {
     "name": "stdout",
     "output_type": "stream",
     "text": [
      "Ingesting data\n"
     ]
    },
    {
     "data": {
      "application/vnd.jupyter.widget-view+json": {
       "model_id": "75962a18f813485b80ef8aa88d72d23e",
       "version_major": 2,
       "version_minor": 0
      },
      "text/plain": [
       "Inserting Batches:   0%|          | 0/273 [00:00<?, ?batch/s]"
      ]
     },
     "metadata": {},
     "output_type": "display_data"
    },
    {
     "name": "stdout",
     "output_type": "stream",
     "text": [
      "Number of records in the collection: 35142\n",
      "Data ingested\n"
     ]
    }
   ],
   "source": [
    "\n",
    "print('Ingesting data')\n",
    "# Insert embeddings to Milvus if needed (takes time)\n",
    "csv_file_path = \"data/wiki_movie_plots_deduped.csv\"\n",
    "milvus_client.get_collection()\n",
    "milvus_client.ingest_data(csv_file_path, embedding_model, batch_size=128)\n",
    "print('Data ingested')"
   ]
  },
  {
   "cell_type": "code",
   "execution_count": 9,
   "metadata": {},
   "outputs": [
    {
     "name": "stdout",
     "output_type": "stream",
     "text": [
      "Number of records in the collection: 35142\n"
     ]
    }
   ],
   "source": [
    "# milvus_client.drop_collection()\n",
    "\n",
    "# milvus_client.get_collection()\n",
    "\n",
    "milvus_client.count_records()"
   ]
  },
  {
   "cell_type": "code",
   "execution_count": 13,
   "metadata": {},
   "outputs": [
    {
     "name": "stdout",
     "output_type": "stream",
     "text": [
      "Embedding type: <class 'list'>, First element type: <class 'float'>\n",
      "Mars Needs Women\n",
      "1967\n",
      "a u. s. military station in houston, the united states decoding service (u.s.d.s.), nasa wing, has intercepted a message from outer space. after decoding, the message contains only the cryptic statement: \"mars ... needs ... women\" martians have developed a genetic deficiency that now produces only male children. a mission to earth is launched, consisting of five martian males, led by dop (tommy kirk). once here, their team intends to recruit earth women to come to mars to mate and produce female offspring, saving their civilization from extinction. using their sophisticated transponder, dop attempts to make contact with the u.s. military, which has now tracked the aliens' arrival on earth. the military eventually views the martians as invaders, so the team takes on the guise of earth men, acquiring human clothes, money, maps, and transportation. they finally select their prospective candidates, setting their sights on four american women: a homecoming queen, a stewardess, a stripper, and, most especially, a pulitzer prize-winning scientist, dr. bolen (yvonne craig), an expert in \"space genetics\". resorting to hypnosis, the women are captured, but dop quickly becomes enamored with dr. bolen; soon he is ready to sabotage their mission for her. after the military discovers their hideout, the martians are forced to return home without their female captives.\n",
      "Invasion of the Neptune Men\n",
      "1961\n",
      "astronomer shinichi tachibana has a secret identity as superhero \"iron sharp\" (changed to \"space chief\" in the english dub) and has many children as friends. when they are attacked by a group of metallic aliens (\"neptune men\" in english), iron sharp drives the aliens away. the resourceful tachibana helps develop an electric barrier to block the aliens from coming to the earth. after several losses by the aliens, they announce that they will invade the earth, throwing the world into a state of panic. the aliens destroy entire cities with their mothership and smaller fighters. after iron sharp destroys multiple enemy ships, japan fires a nuclear missile at the mothership, destroying it.\n",
      "Independence Day: Resurgence\n",
      "2016\n",
      "twenty years after the devastating alien invasion, the united nations has set up the earth space defense (esd), a global defense and research program that reverse-engineers alien technology and serves as earth's early warning system against extraterrestrial threats. civilization has been restored and relative peace among nations exists following the human race's victory over the aliens' attacks. as the twentieth anniversary of the invasion approaches, esd director david levinson meets with warlord dikembe umbutu and dr. catherine marceaux in the african state republique nationale d'umbutu. they travel to an intact alien city destroyer and discover that alien survivors sent a distress call to their home world before their defeat. it is revealed that former u.s. president thomas whitmore, dr. brackish okun, and umbutu are telepathically linked to the aliens, following personal encounters, and have visions of an unidentified spherical object. an unidentified spherical ship emerges from a wormhole near earth's moon, and despite objections from levinson, is destroyed on the orders of the united nations security council. defying orders, american pilots jake morrison and charlie miller then pick up levinson, marceaux, umbutu, and u.s. federal controller floyd rosenberg on a space tug. they head for the wreckage in the van de graaff crater, where they recover a large container. an alien mothership suddenly appears, responding to the distress call, and proceeds to destroy much of the earth's planetary defenses before landing over the north atlantic ocean, where it starts to drill down toward the earth's molten core. narrowly escaping death, those on board the space tug are able to avoid capture and return to area 51. whitmore, levinson, and u.s. general joshua adams' groups interrogate one of the aliens held in captivity at area 51's prison facility from the war. they learn that the aliens exist in eusociality and that one of their colossal queens is commanding the invasion. levinson hypothesizes that, if they kill the supervising queen, her forces will cease drilling and retreat. an esd aerial fleet, led by captain dylan hiller, stages a counterattack, but they are caught in a trap within the mothership, leaving only a few survivors, including dylan, jake, charlie, and fellow esd lieutenant and chinese pilot rain lao. in area 51, okun opens the rescued container and releases a giant white sphere of virtual intelligence. she reveals that her mission is to evacuate survivors to a planet of refuge from worlds targeted by the aliens, whom she calls \"harvesters\", and unite them in an attack on the harvesters' planet. in the mothership, all surviving esd pilots manage to escape by hijacking enemy craft; dylan, jake, charlie, and rain navigate two harvester fighters to pursue the queen's personal ship, which is heading to area 51 to extract information from the sphere about the refugee planet. knowing the harvester queen has become aware of the sphere's location, the esd hide her in an isolation chamber and use a decoy in jake's space tug to lure the harvester queen's ship into a trap. whitmore volunteers to pilot the transport ship on a suicide mission, leading the queen's ship into a trap before detonating a bomb, thus sacrificing himself but destroying the enemy ship. however, the harvester queen survives by using an energy shield and a fight breaks out. initially, the esd soldiers' weapons cannot penetrate the queen's shield, but after the harvester queen lowers her shield to fire her own weapon, a good shot by whitmore's daughter patricia disables her shield. this allows dylan's party, which arrives just in time, to ultimately kill her before she can take the sphere. with the queen dead, all the remaining alien fighters are rendered inactive, while the mothership stops drilling and retreats to space. okun reveals that the sphere has asked humanity to lead her resistance and has offered them new technology in preparation for a counterattack on the harvester's home world.\n",
      "Kiss Me Quick!\n",
      "1964\n",
      "the plot involves an alien, sterilox, from the \"buttless\" galaxy being sent to earth in order to find the perfect woman who will be used to create a race of servants. sterilox is teleported into the lab of a mad scientist by the name of dr. breedlove, who offers sterilox a number of beautiful women to choose from. the highlight of the movie involves a dance number where three of breedlove's women gyrate to rock music.\n",
      "Hangar 18\n",
      "1980\n",
      "hangar 18 involves a u.f.o. cover-up, following an incident aboard the space shuttle. the orbiter is launching a satellite, which collides with a nearby unidentified object. the collision kills an astronaut in the launch bay. the incident is witnessed by astronauts price and bancroft. after returning to earth, both men investigate what they know happened, but which the government tries its best to hide. the damaged alien spacecraft has been recovered after making a controlled landing in the arizona desert, and brought by scientists to an air force base to be concealed and studied. entering the ship, the scientists find it to have been manned by a crew of two aliens—both now dead. the technicians make three discoveries—a woman in some sort of stasis, who later awakens screaming; symbols on the control panels match those used in ancient earth civilizations; the ship's computer reveals extensive surveillance footage of power plants, military bases, industrial plants and major cities worldwide. one of the scientists deduces that the ship could not have reached earth on its own, and that a mother ship—larger, faster and more long ranged than the one recovered—is still out there. meanwhile, with their dogged pursuit to uncover the truth, both bancroft and price are targeted by the government. chased by agents, bancroft manages to get away, but price is killed. bancroft eventually manages to make his way to hangar 18, where the alien craft is being studied. as the researchers discover evidence aboard the spacecraft that the aliens were planning to return to earth, government agents remotely fly a jet filled with explosives into the hangar—a move aimed at killing off all involved in the cover-up in a final attempt to maintain secrecy. after the explosion, a news bulletin is released about the hangar explosion, causing a congressional hearing for evidence about the activities in hangar 18. it is revealed that bancroft and a few others survived the explosion, since they were inside the alien ship.\n",
      "Generated Summary:\n",
      "Using the following plot summaries, write a cohesive summary or review of movies similar to 'Sexy aliens start reproducing with earthlings to create a hybrid race of interstellar diplomats.':\n",
      "\n",
      "a u. s. military station in houston, the united states decoding service (u.s.d.s.), nasa wing, has intercepted a message from outer space. after decoding, the message contains only the cryptic statement: \"mars ... needs ... women\" martians have developed a genetic deficiency that now produces only male children. a mission to earth is launched, consisting of five martian males, led by dop (tommy kirk). once here, their team intends to recruit earth women to come to mars to mate and produce female offspring, saving their civilization from extinction. using their sophisticated transponder, dop attempts to make contact with the u.s. military, which has now tracked the aliens' arrival on earth. the military eventually views the martians as invaders, so the team takes on the guise of earth men, acquiring human clothes, money, maps, and transportation. they finally select their prospective candidates, setting their sights on four american women: a homecoming queen, a stewardess, a stripper, and, most especially, a pulitzer prize-winning scientist, dr. bolen (yvonne craig), an expert in \"space genetics\". resorting to hypnosis, the women are captured, but dop quickly becomes enamored with dr. bolen; soon he is ready to sabotage their mission for her. after the military discovers their hideout, the martians are forced to return home without their female captives.astronomer shinichi tachibana has a secret identity as superhero \"iron sharp\" (changed to \"space chief\" in the english dub) and has many children as friends. when they are attacked by a group of metallic aliens (\"neptune men\" in english), iron sharp drives the aliens away. the resourceful tachibana helps develop an electric barrier to block the aliens from coming to the earth. after several losses by the aliens, they announce that they will invade the earth, throwing the world into a state of panic. the aliens destroy entire cities with their mothership and smaller fighters. after iron sharp destroys multiple enemy ships, japan fires a nuclear missile at the mothership, destroying it.twenty years after the devastating alien invasion, the united nations has set up the earth space defense (esd), a global defense and research program that reverse-engineers alien technology and serves as earth's early warning system against extraterrestrial threats. civilization has been restored and relative peace among nations exists following the human race's victory over the aliens' attacks. as the twentieth anniversary of the invasion approaches, esd director david levinson meets with warlord dikembe umbutu and dr. catherine marceaux in the african state republique nationale d'umbutu. they travel to an intact alien city destroyer and discover that alien survivors sent a distress call to their home world before their defeat. it is revealed that former u.s. president thomas whitmore, dr. brackish okun, and umbutu are telepathically linked to the aliens, following personal encounters, and have visions of an unidentified spherical object. an unidentified spherical ship emerges from a wormhole near earth's moon, and despite objections from levinson, is destroyed on the orders of the united nations security council. defying orders, american pilots jake morrison and charlie miller then pick up levinson, marceaux, umbutu, and u.s. federal controller floyd rosenberg on a space tug. they head for the wreckage in the van de graaff crater, where they recover a large container. an alien mothership suddenly appears, responding to the distress call, and proceeds to destroy much of the earth's planetary defenses before landing over the north atlantic ocean, where it starts to drill down toward the earth's molten core. narrowly escaping death, those on board the space tug are able to avoid capture and return to area 51. whitmore, levinson, and u.s. general joshua adams' groups interrogate one of the aliens held in captivity at area 51's prison facility from the war. they learn that the aliens exist in eusociality and that one of their colossal queens is commanding the invasion. levinson hypothesizes that, if they kill the supervising queen, her forces will cease drilling and retreat. an esd aerial fleet, led by captain dylan hiller, stages a counterattack, but they are caught in a trap within the mothership, leaving only a few survivors, including dylan, jake, charlie, and fellow esd lieutenant and chinese pilot rain lao. in area 51, okun opens the rescued container and releases a giant white sphere of virtual intelligence. she reveals that her mission is to evacuate survivors to a planet of refuge from worlds targeted by the aliens, whom she calls \"harvesters\", and unite them in an attack on the harvesters' planet. in the mothership, all surviving esd pilots manage to escape by hijacking enemy craft; dylan, jake, charlie, and rain navigate two harvester fighters to pursue the queen's personal ship, which is heading to area 51 to extract information from the sphere about the refugee planet. knowing the harvester queen has become aware of the sphere's location, the esd hide her in an isolation chamber and use a decoy in jake's space tug to lure the harvester queen's ship into a trap. whitmore volunteers to pilot the transport ship on a suicide mission, leading the queen's ship into a trap before detonating a bomb, thus sacrificing himself but destroying the enemy ship. however, the harvester queen survives by using an energy shield and a fight breaks out. initially, the esd soldiers' weapons cannot penetrate the queen's shield, but after the harvester queen lowers her shield to fire her own weapon, a good shot by whitmore's daughter patricia disables her shield. this allows dylan's party, which arrives just in time, to ultimately kill her before she can take the sphere. with the queen dead, all the remaining alien fighters are rendered inactive, while the mothership stops drilling and retreats to space. okun reveals that the sphere has asked humanity to lead her resistance and has offered them new technology in preparation for a counterattack on the harvester's home world.the plot involves an alien, sterilox, from the \"buttless\" galaxy being sent to earth in order to find the perfect woman who will be used to create a race of servants. sterilox is teleported into the lab of a mad scientist by the name of dr. breedlove, who offers sterilox a number of beautiful women to choose from. the highlight of the movie involves a dance number where three of breedlove's women gyrate to rock music.hangar 18 involves a u.f.o. cover-up, following an incident aboard the space shuttle. the orbiter is launching a satellite, which collides with a nearby unidentified object. the collision kills an astronaut in the launch bay. the incident is witnessed by astronauts price and bancroft. after returning to earth, both men investigate what they know happened, but which the government tries its best to hide. the damaged alien spacecraft has been recovered after making a controlled landing in the arizona desert, and brought by scientists to an air force base to be concealed and studied. entering the ship, the scientists find it to have been manned by a crew of two aliens—both now dead. the technicians make three discoveries—a woman in some sort of stasis, who later awakens screaming; symbols on the control panels match those used in ancient earth civilizations; the ship's computer reveals extensive surveillance footage of power plants, military bases, industrial plants and major cities worldwide. one of the scientists deduces that the ship could not have reached earth on its own, and that a mother ship—larger, faster and more long ranged than the one recovered—is still out there. meanwhile, with their dogged pursuit to uncover the truth, both bancroft and price are targeted by the government. chased by agents, bancroft manages to get away, but price is killed. bancroft eventually manages to make his way to hangar 18, where the alien craft is being studied. as the researchers discover evidence aboard the spacecraft that the aliens were planning to return to earth, government agents remotely fly a jet filled with explosives into the hangar—a move aimed at killing off all involved in the cover-up in a final attempt to maintain secrecy. after the explosion, a news bulletin is released about the hangar explosion, causing a congressional hearing for evidence about the activities in hangar 18. it is revealed that bancroft and a few others survived the explosion, since they were inside the alien ship.\n"
     ]
    }
   ],
   "source": [
    "\n",
    "plot_query = \"Sexy aliens start reproducing with earthlings to create a hybrid race of interstellar diplomats.\"\n",
    "\n",
    "embedding = embedding_model.get_batch_embeddings([plot_query])\n",
    "search_results = milvus_client.search(embedding)\n",
    "\n",
    "\n",
    "context_texts = ''\n",
    "for result in search_results:\n",
    "    for hit in result:\n",
    "        # print returns for context\n",
    "        print(hit.entity.get(\"title\"))\n",
    "        print(hit.entity.get(\"release_year\"))\n",
    "        print(hit.entity.get(\"plot_text\"))\n",
    "        plot_text = hit.entity.get(\"plot_text\")\n",
    "        context_texts += plot_text\n",
    "\n",
    "\n",
    "prompt = f\"Using the following plot summaries, write a cohesive summary or review of movies similar to '{plot_query}':\\n\\n{context_texts}\"\n",
    "\n",
    "# Generate a response using the GenerationModel\n",
    "response = generation_model.generate_response(\n",
    "    prompt,\n",
    "    max_new_tokens=250,\n",
    "    num_return_sequences=1,\n",
    "    do_sample=True,\n",
    "    top_p=0.95,\n",
    "    top_k=50\n",
    ")\n",
    "\n",
    "\n",
    "print(\"Generated Summary:\")\n",
    "print(response)\n"
   ]
  }
 ],
 "metadata": {
  "kernelspec": {
   "display_name": "ragtime-5o5M5Lb8",
   "language": "python",
   "name": "python3"
  },
  "language_info": {
   "codemirror_mode": {
    "name": "ipython",
    "version": 3
   },
   "file_extension": ".py",
   "mimetype": "text/x-python",
   "name": "python",
   "nbconvert_exporter": "python",
   "pygments_lexer": "ipython3",
   "version": "3.11.10"
  }
 },
 "nbformat": 4,
 "nbformat_minor": 2
}
